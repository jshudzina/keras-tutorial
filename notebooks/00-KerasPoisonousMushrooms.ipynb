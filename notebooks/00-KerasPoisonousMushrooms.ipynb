{
 "cells": [
  {
   "cell_type": "markdown",
   "metadata": {},
   "source": [
    "# Keras versus Poisonous Mushrooms\n",
    "\n",
    "This example demonstrates building a simple dense neural network using Keras.  The example uses [Agaricus Lepiota](https://archive.ics.uci.edu/ml/datasets/Mushroom) training data to detect poisonous mushrooms."
   ]
  },
  {
   "cell_type": "code",
   "execution_count": null,
   "metadata": {},
   "outputs": [],
   "source": [
    "from pandas import read_csv\n",
    "srooms_df = read_csv('../data/agaricus-lepiota.data.csv')\n",
    "srooms_df.head()"
   ]
  },
  {
   "cell_type": "markdown",
   "metadata": {},
   "source": [
    "## Feature extraction\n",
    "\n",
    "If we wanted to use all the features in the training set then we would need to map each out.  The ```LabelEncoder``` converts T/F data to 1 and 0.  The ```LabelBinarizer``` converters categorical data to an **one hot encoding**. \n",
    "\n",
    "> Note: Bruises has missing data. \n",
    "\n",
    "If we wanted to use all the features in the training set then we would need to map each out:\n",
    "\n",
    "```\n",
    "column_names = srooms_df.axes[1]\n",
    "def get_mapping(name):\n",
    "    if(name == 'edibility' or name == 'gill-attachment'):\n",
    "        return (name, sklearn.preprocessing.LabelEncoder())\n",
    "    else:\n",
    "        return (name, sklearn.preprocessing.LabelBinarizer())\n",
    "    \n",
    "mappings = list(map(lambda name: get_mapping(name), column_names)\n",
    "```\n",
    "\n",
    "We will use a subset of features to make it interesting.  Are there simple rules or a handful of features that can be used to test edibility?  Lets try a few."
   ]
  },
  {
   "cell_type": "code",
   "execution_count": null,
   "metadata": {
    "collapsed": true
   },
   "outputs": [],
   "source": [
    "from sklearn_pandas import DataFrameMapper\n",
    "import sklearn\n",
    "import numpy as np\n",
    "\n",
    "mappings = ([\n",
    "    ('edibility', sklearn.preprocessing.LabelEncoder()),\n",
    "    ('odor', sklearn.preprocessing.LabelBinarizer()),\n",
    "    ('habitat', sklearn.preprocessing.LabelBinarizer()),\n",
    "    ('spore-print-color', sklearn.preprocessing.LabelBinarizer())\n",
    "])"
   ]
  },
  {
   "cell_type": "markdown",
   "metadata": {},
   "source": [
    "Now lets transform the textual data to a vector..."
   ]
  },
  {
   "cell_type": "code",
   "execution_count": null,
   "metadata": {},
   "outputs": [],
   "source": [
    "mapper = DataFrameMapper(mappings)\n",
    "srooms_np = mapper.fit_transform(srooms_df.copy())"
   ]
  },
  {
   "cell_type": "markdown",
   "metadata": {},
   "source": [
    "The transformed data should have 26 features. The break down is as follows:\n",
    "* Edibility (0 = edible, 1 = poisonous)\n",
    "* odor (9 features): \n",
    "    ```[almond=a, creosote=c, foul=f, anise=l, musty=m, none=n, pungent=p, spicy=s, fishy=y]```\n",
    "* habitat (7 features):\n",
    "    ```[woods=d, grasses=g, leaves=l, meadows=m, paths=p, urban=u, waste=w]```\n",
    "* spore-print-color (9 features):\n",
    "    ```[buff=b, chocolate=h, black=k, brown=n, orange=o, green=r, purple=u, white=w, yellow=y]```"
   ]
  },
  {
   "cell_type": "code",
   "execution_count": null,
   "metadata": {},
   "outputs": [],
   "source": [
    "print(srooms_np.shape)\n",
    "print(\"Frist sample: {}\".format(srooms_np[0]))\n",
    "print(\"  edibility (poisonous): {}\".format(srooms_np[0][0]))\n",
    "print(\"  ordr (pungent): {}\".format(srooms_np[0][1:10]))\n",
    "print(\"  habitat (urban): {}\".format(srooms_np[0][10:17]))\n",
    "print(\"  spore-print-color (black): {}\".format(srooms_np[0][17:]))"
   ]
  },
  {
   "cell_type": "markdown",
   "metadata": {},
   "source": [
    "Before we train the neural network, let split the data into training and test datasets."
   ]
  },
  {
   "cell_type": "code",
   "execution_count": null,
   "metadata": {},
   "outputs": [],
   "source": [
    "from sklearn.model_selection import train_test_split\n",
    "train, test = train_test_split(srooms_np, test_size = 0.2, random_state=7)\n",
    "train_labels = train[:,0:1]\n",
    "train_data = train[:,1:]\n",
    "test_labels = test[:,0:1]\n",
    "test_data = test[:,1:]\n",
    "print('training data dims: {}, label dims: {}'.format(train_data.shape,train_labels.shape))\n",
    "print('test data dims: {}, label dims: {}'.format(test_data.shape,test_labels.shape))"
   ]
  },
  {
   "cell_type": "markdown",
   "metadata": {},
   "source": [
    "# Model Definition\n",
    "\n",
    "We will create a simple three layer neural network.  The network contains two dense layers and a dropout layer (avoids overfitting).  \n",
    "\n",
    "## Layer 1: Dense Layer\n",
    "\n",
    "A dense layer applies an activation function to the output of $W \\cdot x + b$.  If the densen layer only had three input and output, a diagram of the layer looks like sort of this.  \n",
    "\n",
    "![Dense Layer](images/DenseLayer.png)\n",
    "\n",
    "Under the covers, keras represents layer's wieghts as a matrix.  The inputs, outputs, and biases are vectors...\n",
    "\n",
    "$$ \n",
    "\\begin{bmatrix} \n",
    "y_1 \\\\\n",
    "y_2 \\\\\n",
    "y_3\n",
    "\\end{bmatrix}\n",
    "=\n",
    "relu\n",
    "\\begin{pmatrix}\n",
    "\\begin{bmatrix} \n",
    "W_{1,1} & W_{1,2} &  W_{1,3} \\\\\n",
    "W_{2,1} & W_{2,2} &  W_{2,3} \\\\\n",
    "W_{3,1} & W_{3,2} &  W_{3,3}\n",
    "\\end{bmatrix}\n",
    "\\cdot\n",
    "\\begin{bmatrix} \n",
    "x_1 \\\\\n",
    "x_2 \\\\\n",
    "x_3\n",
    "\\end{bmatrix}\n",
    "+\n",
    "\\begin{bmatrix} \n",
    "b_1 \\\\\n",
    "b_2 \\\\\n",
    "b_3\n",
    "\\end{bmatrix}\n",
    "\\end{pmatrix}\n",
    "$$\n",
    "\n",
    "If this operation was decomposed futher, it would look like this...\n",
    "$$ \n",
    "\\begin{bmatrix} \n",
    "y_1 \\\\\n",
    "y_2 \\\\\n",
    "y_3\n",
    "\\end{bmatrix}\n",
    "=\n",
    "\\begin{bmatrix}\n",
    "relu(W_{1,1} x_1 + W_{1,2} x_2 +  W_{1,3} x_3 + b_1) \\\\\n",
    "relu(W_{2,1} x_1 + W_{2,2} x_2 +  W_{2,3} x_3 + b_2) \\\\\n",
    "relu(W_{3,1} x_1 + W_{3,2} x_2 +  W_{3,3} x_3 + b_3)\n",
    "\\end{bmatrix}\n",
    "$$\n",
    "\n",
    "## Layer 2: Dropout\n",
    "\n",
    "The dropout layer prevents overfitting by randomly dropping inputs to the next layer.\n",
    "\n",
    "## Layer 3: Dense Layer\n",
    "\n",
    "This laye acts like the first one, except this layer applies a sigmod activation function.  The output is the probability a mushroom is poisonous.\n",
    "\n",
    "$$y = sigmod(W \\cdot x + b)$$\n",
    "\n",
    "## Putting It Together\n",
    "\n",
    "Fortunatly, we don't need to worry about wiegths and biases Keras.  We just define the layers in a sequence..."
   ]
  },
  {
   "cell_type": "code",
   "execution_count": null,
   "metadata": {},
   "outputs": [],
   "source": [
    "from keras.models import Sequential\n",
    "from keras.layers import Dense, Dropout\n",
    "\n",
    "model = Sequential()\n",
    "model.add(Dense(20, activation='relu', input_dim=25))\n",
    "model.add(Dropout(0.5))\n",
    "model.add(Dense(1, activation='sigmoid'))"
   ]
  },
  {
   "cell_type": "markdown",
   "metadata": {},
   "source": [
    "## Keras Callbacks\n",
    "\n",
    "Keras provides callbacks as a means to instrument internal state.  In this example, we will write a tensorflow event log.  The event log enables a tensorboard visualization of the translated model.  The event log also captures key meterics during training. \n",
    "\n",
    "> Note: This step is completely optional and depends on the backend engine.  "
   ]
  },
  {
   "cell_type": "code",
   "execution_count": null,
   "metadata": {
    "collapsed": true
   },
   "outputs": [],
   "source": [
    "from keras.callbacks import TensorBoard\n",
    "tensor_board = TensorBoard(log_dir='./logs', histogram_freq=1)"
   ]
  },
  {
   "cell_type": "code",
   "execution_count": null,
   "metadata": {},
   "outputs": [],
   "source": [
    "model.compile(optimizer='adam',\n",
    "              loss='binary_crossentropy',\n",
    "              metrics=['accuracy'])\n",
    "\n",
    "model.fit(train_data, train_labels, epochs=10, batch_size=32, callbacks=[tensor_board])"
   ]
  },
  {
   "cell_type": "code",
   "execution_count": null,
   "metadata": {},
   "outputs": [],
   "source": [
    "score = model.evaluate(test_data, test_labels, batch_size=1625)\n",
    "print(score)"
   ]
  },
  {
   "cell_type": "code",
   "execution_count": null,
   "metadata": {
    "collapsed": true
   },
   "outputs": [],
   "source": []
  }
 ],
 "metadata": {
  "kernelspec": {
   "display_name": "Python 3",
   "language": "python",
   "name": "python3"
  },
  "language_info": {
   "codemirror_mode": {
    "name": "ipython",
    "version": 3
   },
   "file_extension": ".py",
   "mimetype": "text/x-python",
   "name": "python",
   "nbconvert_exporter": "python",
   "pygments_lexer": "ipython3",
   "version": "3.5.3"
  }
 },
 "nbformat": 4,
 "nbformat_minor": 1
}
