{
 "cells": [
  {
   "cell_type": "markdown",
   "metadata": {},
   "source": [
    "# LSTM Time Series Example\n",
    "\n",
    "> Note: This tutorial is based on [Time Series Forecasting with the Long Short-Term Memory Network in Python](http://machinelearningmastery.com/time-series-forecasting-long-short-term-memory-network-python/) by Jason Brownlee.\n",
    "\n",
    "\n",
    "## Part 2 - Train LSTM "
   ]
  },
  {
   "cell_type": "code",
   "execution_count": 1,
   "metadata": {},
   "outputs": [
    {
     "name": "stderr",
     "output_type": "stream",
     "text": [
      "Using TensorFlow backend.\n"
     ]
    }
   ],
   "source": [
    "from pandas import DataFrame\n",
    "from pandas import Series\n",
    "from pandas import concat\n",
    "from pandas import read_csv\n",
    "from pandas import datetime\n",
    "from sklearn.metrics import mean_squared_error\n",
    "from sklearn.preprocessing import MinMaxScaler\n",
    "from keras.models import Sequential\n",
    "from keras.layers import Dense\n",
    "from keras.layers import LSTM\n",
    "from math import sqrt\n",
    "from matplotlib import pyplot\n",
    "import numpy"
   ]
  },
  {
   "cell_type": "code",
   "execution_count": 25,
   "metadata": {},
   "outputs": [
    {
     "data": {
      "text/html": [
       "<div>\n",
       "<style>\n",
       "    .dataframe thead tr:only-child th {\n",
       "        text-align: right;\n",
       "    }\n",
       "\n",
       "    .dataframe thead th {\n",
       "        text-align: left;\n",
       "    }\n",
       "\n",
       "    .dataframe tbody tr th {\n",
       "        vertical-align: top;\n",
       "    }\n",
       "</style>\n",
       "<table border=\"1\" class=\"dataframe\">\n",
       "  <thead>\n",
       "    <tr style=\"text-align: right;\">\n",
       "      <th></th>\n",
       "      <th>visitors</th>\n",
       "      <th>unemployment</th>\n",
       "      <th>TMAX</th>\n",
       "      <th>TMIN</th>\n",
       "      <th>TAVG</th>\n",
       "      <th>PRCP</th>\n",
       "    </tr>\n",
       "    <tr>\n",
       "      <th>month</th>\n",
       "      <th></th>\n",
       "      <th></th>\n",
       "      <th></th>\n",
       "      <th></th>\n",
       "      <th></th>\n",
       "      <th></th>\n",
       "    </tr>\n",
       "  </thead>\n",
       "  <tbody>\n",
       "    <tr>\n",
       "      <th>1990-01-01</th>\n",
       "      <td>25884</td>\n",
       "      <td>5.4</td>\n",
       "      <td>44</td>\n",
       "      <td>-5</td>\n",
       "      <td>26.9</td>\n",
       "      <td>8.8</td>\n",
       "    </tr>\n",
       "    <tr>\n",
       "      <th>1990-02-01</th>\n",
       "      <td>33285</td>\n",
       "      <td>5.3</td>\n",
       "      <td>50</td>\n",
       "      <td>-14</td>\n",
       "      <td>23.3</td>\n",
       "      <td>6.3</td>\n",
       "    </tr>\n",
       "    <tr>\n",
       "      <th>1990-03-01</th>\n",
       "      <td>19372</td>\n",
       "      <td>5.2</td>\n",
       "      <td>56</td>\n",
       "      <td>2</td>\n",
       "      <td>32.6</td>\n",
       "      <td>2.9</td>\n",
       "    </tr>\n",
       "    <tr>\n",
       "      <th>1990-04-01</th>\n",
       "      <td>29242</td>\n",
       "      <td>5.4</td>\n",
       "      <td>68</td>\n",
       "      <td>11</td>\n",
       "      <td>40.2</td>\n",
       "      <td>5.4</td>\n",
       "    </tr>\n",
       "    <tr>\n",
       "      <th>1990-05-01</th>\n",
       "      <td>203712</td>\n",
       "      <td>5.4</td>\n",
       "      <td>67</td>\n",
       "      <td>12</td>\n",
       "      <td>41.8</td>\n",
       "      <td>4.0</td>\n",
       "    </tr>\n",
       "  </tbody>\n",
       "</table>\n",
       "</div>"
      ],
      "text/plain": [
       "            visitors  unemployment  TMAX  TMIN  TAVG  PRCP\n",
       "month                                                     \n",
       "1990-01-01     25884           5.4    44    -5  26.9   8.8\n",
       "1990-02-01     33285           5.3    50   -14  23.3   6.3\n",
       "1990-03-01     19372           5.2    56     2  32.6   2.9\n",
       "1990-04-01     29242           5.4    68    11  40.2   5.4\n",
       "1990-05-01    203712           5.4    67    12  41.8   4.0"
      ]
     },
     "execution_count": 25,
     "metadata": {},
     "output_type": "execute_result"
    }
   ],
   "source": [
    "# date-time parsing function for loading the dataset\n",
    "def parser(x):\n",
    "\treturn datetime.strptime(x, '%Y-%m-%d')\n",
    "\n",
    "dataset = read_csv('../data/yellowstone-visitors-ur-weather.csv', header=0, parse_dates=[0], index_col=0, squeeze=True, date_parser=parser)\n",
    "dataset.head()"
   ]
  },
  {
   "cell_type": "code",
   "execution_count": 34,
   "metadata": {},
   "outputs": [
    {
     "data": {
      "text/html": [
       "<div>\n",
       "<style>\n",
       "    .dataframe thead tr:only-child th {\n",
       "        text-align: right;\n",
       "    }\n",
       "\n",
       "    .dataframe thead th {\n",
       "        text-align: left;\n",
       "    }\n",
       "\n",
       "    .dataframe tbody tr th {\n",
       "        vertical-align: top;\n",
       "    }\n",
       "</style>\n",
       "<table border=\"1\" class=\"dataframe\">\n",
       "  <thead>\n",
       "    <tr style=\"text-align: right;\">\n",
       "      <th></th>\n",
       "      <th>visitors</th>\n",
       "      <th>unemployment</th>\n",
       "      <th>TMAX</th>\n",
       "      <th>TMIN</th>\n",
       "      <th>TAVG</th>\n",
       "      <th>PRCP</th>\n",
       "    </tr>\n",
       "  </thead>\n",
       "  <tbody>\n",
       "    <tr>\n",
       "      <th>0</th>\n",
       "      <td>7401.0</td>\n",
       "      <td>-0.1</td>\n",
       "      <td>6.0</td>\n",
       "      <td>-9.0</td>\n",
       "      <td>-3.6</td>\n",
       "      <td>-2.5</td>\n",
       "    </tr>\n",
       "    <tr>\n",
       "      <th>1</th>\n",
       "      <td>-13913.0</td>\n",
       "      <td>-0.1</td>\n",
       "      <td>6.0</td>\n",
       "      <td>16.0</td>\n",
       "      <td>9.3</td>\n",
       "      <td>-3.4</td>\n",
       "    </tr>\n",
       "    <tr>\n",
       "      <th>2</th>\n",
       "      <td>9870.0</td>\n",
       "      <td>0.2</td>\n",
       "      <td>12.0</td>\n",
       "      <td>9.0</td>\n",
       "      <td>7.6</td>\n",
       "      <td>2.5</td>\n",
       "    </tr>\n",
       "    <tr>\n",
       "      <th>3</th>\n",
       "      <td>174470.0</td>\n",
       "      <td>0.0</td>\n",
       "      <td>-1.0</td>\n",
       "      <td>1.0</td>\n",
       "      <td>1.6</td>\n",
       "      <td>-1.4</td>\n",
       "    </tr>\n",
       "    <tr>\n",
       "      <th>4</th>\n",
       "      <td>322874.0</td>\n",
       "      <td>-0.2</td>\n",
       "      <td>20.0</td>\n",
       "      <td>19.0</td>\n",
       "      <td>12.9</td>\n",
       "      <td>-2.3</td>\n",
       "    </tr>\n",
       "  </tbody>\n",
       "</table>\n",
       "</div>"
      ],
      "text/plain": [
       "   visitors  unemployment  TMAX  TMIN  TAVG  PRCP\n",
       "0    7401.0          -0.1   6.0  -9.0  -3.6  -2.5\n",
       "1  -13913.0          -0.1   6.0  16.0   9.3  -3.4\n",
       "2    9870.0           0.2  12.0   9.0   7.6   2.5\n",
       "3  174470.0           0.0  -1.0   1.0   1.6  -1.4\n",
       "4  322874.0          -0.2  20.0  19.0  12.9  -2.3"
      ]
     },
     "execution_count": 34,
     "metadata": {},
     "output_type": "execute_result"
    }
   ],
   "source": [
    "def difference(dataset, interval=1):\n",
    "    diff = list()\n",
    "    for i in range(interval, len(dataset)):\n",
    "        value = dataset[i] - dataset[i - interval]\n",
    "        diff.append(value)\n",
    "    return diff\n",
    "\n",
    "diff_values = difference(dataset.values)\n",
    "diff_df = DataFrame(diff_values, columns=dataset.columns.values)\n",
    "diff_df.head()"
   ]
  },
  {
   "cell_type": "code",
   "execution_count": 48,
   "metadata": {},
   "outputs": [
    {
     "data": {
      "text/html": [
       "<div>\n",
       "<style>\n",
       "    .dataframe thead tr:only-child th {\n",
       "        text-align: right;\n",
       "    }\n",
       "\n",
       "    .dataframe thead th {\n",
       "        text-align: left;\n",
       "    }\n",
       "\n",
       "    .dataframe tbody tr th {\n",
       "        vertical-align: top;\n",
       "    }\n",
       "</style>\n",
       "<table border=\"1\" class=\"dataframe\">\n",
       "  <thead>\n",
       "    <tr style=\"text-align: right;\">\n",
       "      <th></th>\n",
       "      <th>visitors</th>\n",
       "      <th>unemployment</th>\n",
       "      <th>TMAX</th>\n",
       "      <th>TMIN</th>\n",
       "      <th>TAVG</th>\n",
       "      <th>PRCP</th>\n",
       "      <th>label</th>\n",
       "    </tr>\n",
       "  </thead>\n",
       "  <tbody>\n",
       "    <tr>\n",
       "      <th>0</th>\n",
       "      <td>0.0</td>\n",
       "      <td>0.0</td>\n",
       "      <td>0.0</td>\n",
       "      <td>0.0</td>\n",
       "      <td>0.0</td>\n",
       "      <td>0.0</td>\n",
       "      <td>7401.0</td>\n",
       "    </tr>\n",
       "    <tr>\n",
       "      <th>1</th>\n",
       "      <td>7401.0</td>\n",
       "      <td>-0.1</td>\n",
       "      <td>6.0</td>\n",
       "      <td>-9.0</td>\n",
       "      <td>-3.6</td>\n",
       "      <td>-2.5</td>\n",
       "      <td>-13913.0</td>\n",
       "    </tr>\n",
       "    <tr>\n",
       "      <th>2</th>\n",
       "      <td>-13913.0</td>\n",
       "      <td>-0.1</td>\n",
       "      <td>6.0</td>\n",
       "      <td>16.0</td>\n",
       "      <td>9.3</td>\n",
       "      <td>-3.4</td>\n",
       "      <td>9870.0</td>\n",
       "    </tr>\n",
       "    <tr>\n",
       "      <th>3</th>\n",
       "      <td>9870.0</td>\n",
       "      <td>0.2</td>\n",
       "      <td>12.0</td>\n",
       "      <td>9.0</td>\n",
       "      <td>7.6</td>\n",
       "      <td>2.5</td>\n",
       "      <td>174470.0</td>\n",
       "    </tr>\n",
       "    <tr>\n",
       "      <th>4</th>\n",
       "      <td>174470.0</td>\n",
       "      <td>0.0</td>\n",
       "      <td>-1.0</td>\n",
       "      <td>1.0</td>\n",
       "      <td>1.6</td>\n",
       "      <td>-1.4</td>\n",
       "      <td>322874.0</td>\n",
       "    </tr>\n",
       "  </tbody>\n",
       "</table>\n",
       "</div>"
      ],
      "text/plain": [
       "   visitors  unemployment  TMAX  TMIN  TAVG  PRCP     label\n",
       "0       0.0           0.0   0.0   0.0   0.0   0.0    7401.0\n",
       "1    7401.0          -0.1   6.0  -9.0  -3.6  -2.5  -13913.0\n",
       "2  -13913.0          -0.1   6.0  16.0   9.3  -3.4    9870.0\n",
       "3    9870.0           0.2  12.0   9.0   7.6   2.5  174470.0\n",
       "4  174470.0           0.0  -1.0   1.0   1.6  -1.4  322874.0"
      ]
     },
     "execution_count": 48,
     "metadata": {},
     "output_type": "execute_result"
    }
   ],
   "source": [
    "labels = diff_df['visitors'].rename(index='label')\n",
    "shifted = diff_df.shift(1)\n",
    "supervised = concat([shifted, labels], axis=1)\n",
    "supervised.fillna(0, inplace=True)\n",
    "supervised.head()"
   ]
  },
  {
   "cell_type": "code",
   "execution_count": 57,
   "metadata": {},
   "outputs": [
    {
     "name": "stdout",
     "output_type": "stream",
     "text": [
      "training set shape: (311, 7)\n",
      "[  6.90947787e-02  -8.88178420e-16   1.60000000e-01   1.09703800e-03\n",
      "   5.91133005e-02  -1.14754098e-01   8.45981350e-02]\n"
     ]
    }
   ],
   "source": [
    "supervised_values = supervised.values\n",
    "train, test = supervised_values[0:-12], supervised_values[-12:]\n",
    "\n",
    "scaler = MinMaxScaler(feature_range=(-1, 1))\n",
    "scaler = scaler.fit(train)\n",
    "\n",
    "train = train.reshape(train.shape[0], train.shape[1])\n",
    "train_scaled = scaler.transform(train)\n",
    "\n",
    "test = test.reshape(test.shape[0], test.shape[1])\n",
    "test_scaled = scaler.transform(test)\n",
    "\n",
    "print('training set shape: {}'.format(train_scaled.shape))\n",
    "print(train_scaled[0])"
   ]
  },
  {
   "cell_type": "code",
   "execution_count": 54,
   "metadata": {},
   "outputs": [],
   "source": [
    "batch_size = 1 # required for stateful LSTM\n",
    "neurons = 6 \n",
    "features = 6\n",
    "labels = 1\n",
    "\n",
    "model = Sequential()\n",
    "model.add(LSTM(neurons, batch_input_shape=(batch_size, 1, features), stateful=True))\n",
    "model.add(Dense(1))\n",
    "model.compile(loss='mean_squared_error', optimizer='adam')"
   ]
  },
  {
   "cell_type": "code",
   "execution_count": null,
   "metadata": {
    "collapsed": true
   },
   "outputs": [],
   "source": [
    "nb_epoch = 300\n",
    "\n",
    "X, y = train_scaled[:, 0:-1], train_scaled[:, -1]\n",
    "X = X.reshape(X.shape[0], 1, X.shape[1])\n",
    "for i in range(nb_epoch):\n",
    "    model.fit(X, y, epochs=1, batch_size=batch_size, verbose=0, shuffle=False)\n",
    "    model.reset_states()"
   ]
  },
  {
   "cell_type": "code",
   "execution_count": 84,
   "metadata": {},
   "outputs": [
    {
     "data": {
      "text/plain": [
       "array([ 25884,  33285,  19372,  29242, 203712, 526586, 760520, 674454,\n",
       "       414563, 111145,   8117,  16692,  28851,  38050,  19946,  19875,\n",
       "       188798, 499107, 796656, 721103, 432948, 144944,   6261,  23998,\n",
       "        33552,  40245,  19615,  51933, 257951, 539959, 799411, 742879,\n",
       "       462788, 159842,   8646,  27584,  38100,  44049,  31768,  24013,\n",
       "       191222, 525378, 768164, 714408, 401124, 125107,  18899,  29961,\n",
       "        40757,  44946,  27859,  36280, 233737, 541704, 831152, 731012,\n",
       "       414848, 106646,   7953,  29251,  40868,  48034,  21157,  26147,\n",
       "       201797, 550978, 847003, 773307, 468062, 128483,  11635,   7814,\n",
       "        32871,  51692,  27162,  24321, 187045, 539368, 818964, 753934,\n",
       "       426806, 118902,  10473,  20633,  31155,  42392,  19324,  21526,\n",
       "       191985, 512895, 774327, 737973, 403184, 120266,   9983,  24503,\n",
       "        33845,  43032,  17894,  29689, 222385, 549396, 829683, 764238,\n",
       "       445741, 150079,   9106,  25742,  34346,  41120,  23067,  27128,\n",
       "       203727, 580624, 832685, 760062, 445057, 142049,  16230,  25286,\n",
       "        37301,  47573,  20404,  27869, 214814, 553892, 768040, 634104,\n",
       "       353728, 139784,  13422,  27302,  44356,  48980,  18485,  28341,\n",
       "       229085, 507737, 724735, 613965, 373583, 121958,  19585,  27716,\n",
       "        40465,  52002,  23305,  15904, 228642, 568144, 794929, 663266,\n",
       "       413960, 142702,  11235,  19123,  36387,  39494,  17718,  28877,\n",
       "       206245, 580919, 809689, 698753, 404498, 175877,   7967,  12951,\n",
       "        22817,  30030,  20187,  32434, 216905, 584925, 732682, 657869,\n",
       "       406327, 135605,  13939,  14597,  22297,  29018,  17324,  26116,\n",
       "       225811, 560014, 743165, 647288, 393362, 142912,  11505,  16839,\n",
       "        23989,  29011,  18879,  29381, 230762, 557213, 738807, 635666,\n",
       "       428369, 146790,  12382,  19046,  25476,  30928,  20225,  27798,\n",
       "       264203, 609606, 822773, 710781, 463994, 139789,  15362,  20408,\n",
       "        26864,  33557,  19147,  24433, 217938, 593405, 808110, 731063,\n",
       "       437552, 145488,  12671,  16352,  24770,  28355,  17317,  24831,\n",
       "       261763, 643844, 900515, 752983, 489438, 123867,   9397,  18107,\n",
       "        25595,  29108,  21028,  32763, 250445, 694841, 957785, 854837,\n",
       "       550504, 189072,  16819,  17388,  24517,  28174,  18728,  28147,\n",
       "       207842, 634316, 906935, 805173, 536349, 175433,  12198,  16514,\n",
       "        24766,  27752,  20248,  29056, 268251, 671825, 888335, 780286,\n",
       "       527610, 177069,  14059,  18472,  24699,  31053,  18613,  24606,\n",
       "       293250, 624429, 812212, 725136, 557925,  47560,  11169,  17378,\n",
       "        26778,  28233,  18778,  31356, 310039, 669642, 858856, 773357,\n",
       "       571764, 194804,  11537,  18340,  28091,  34343,  22989,  46600,\n",
       "       386064, 780768, 980702, 854408, 680213, 252013,  11049,  20470,\n",
       "        30621,  36327,  22924,  59253, 444630, 838316, 995917, 841036,\n",
       "       701754, 242004,  24710,  19685])"
      ]
     },
     "execution_count": 84,
     "metadata": {},
     "output_type": "execute_result"
    }
   ],
   "source": [
    "# inverse scaling for a forecasted value\n",
    "def invert_scale(scaler, X, value):\n",
    "    new_row = [x for x in X] + [value]\n",
    "    array = numpy.array(new_row)\n",
    "    array = array.reshape(1, len(array))\n",
    "    inverted = scaler.inverse_transform(array)\n",
    "    return inverted[0, -1]"
   ]
  },
  {
   "cell_type": "code",
   "execution_count": 87,
   "metadata": {},
   "outputs": [],
   "source": [
    "visitor_history = dataset['visitors'].values\n",
    "\n",
    "predictions = list()\n",
    "for i in range(len(test_scaled)):\n",
    "    X, y = test_scaled[i, 0:-1], test_scaled[i, -1]\n",
    "    X = X.reshape(1, 1, len(X))\n",
    "    scaled_pred = model.predict(X, batch_size=batch_size)\n",
    "    \n",
    "    visitor_delta = invert_scale(scaler, X[0,0], scaled_pred[0,0])\n",
    "    prev_mon_vistitor = visitor_history[-len(test_scaled)+1-i]\n",
    "    \n",
    "    predictions.append(prev_mon_vistitor + visitor_delta)\n"
   ]
  },
  {
   "cell_type": "code",
   "execution_count": 88,
   "metadata": {},
   "outputs": [
    {
     "data": {
      "image/png": "[encoded data removed]",
      "text/plain": [
       "<matplotlib.figure.Figure at 0x11d167d30>"
      ]
     },
     "metadata": {},
     "output_type": "display_data"
    }
   ],
   "source": [
    "pyplot.plot(visitor_history[-12:])\n",
    "pyplot.plot(predictions)\n",
    "pyplot.show()"
   ]
  },
  {
   "cell_type": "code",
   "execution_count": null,
   "metadata": {
    "collapsed": true
   },
   "outputs": [],
   "source": []
  }
 ],
 "metadata": {
  "kernelspec": {
   "display_name": "Python 3",
   "language": "python",
   "name": "python3"
  },
  "language_info": {
   "codemirror_mode": {
    "name": "ipython",
    "version": 3
   },
   "file_extension": ".py",
   "mimetype": "text/x-python",
   "name": "python",
   "nbconvert_exporter": "python",
   "pygments_lexer": "ipython3",
   "version": "3.5.3"
  }
 },
 "nbformat": 4,
 "nbformat_minor": 2
}
