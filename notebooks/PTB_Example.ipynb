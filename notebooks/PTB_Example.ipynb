{
 "cells": [
  {
   "cell_type": "markdown",
   "metadata": {},
   "source": [
    "# PTB LSTM model\n",
    "\n",
    "This tutorial is a port of [Tensorflow's PTB LSTM model](https://github.com/tensorflow/models/blob/master/tutorials/rnn/ptb/ptb_word_lm.py) to Keras."
   ]
  },
  {
   "cell_type": "code",
   "execution_count": 1,
   "metadata": {},
   "outputs": [
    {
     "name": "stdout",
     "output_type": "stream",
     "text": [
      "  % Total    % Received % Xferd  Average Speed   Time    Time     Time  Current\n",
      "                                 Dload  Upload   Total   Spent    Left  Speed\n",
      "100 33.2M  100 33.2M    0     0   370k      0  0:01:31  0:01:31 --:--:--  331k 396k      0  0:01:25  0:00:44  0:00:41  517k\n"
     ]
    }
   ],
   "source": [
    "!curl http://www.fit.vutbr.cz/~imikolov/rnnlm/simple-examples.tgz -o simple-examples.tgz\n",
    "!tar xf simple-examples.tgz"
   ]
  },
  {
   "cell_type": "code",
   "execution_count": 19,
   "metadata": {},
   "outputs": [
    {
     "name": "stdout",
     "output_type": "stream",
     "text": [
      "['publishing', 'group', '<eos>', 'rudolph', '<unk>', 'N', 'years', 'old', 'and', 'former']\n",
      "[1596, 96, 2, 7682, 1, 3, 72, 393, 8, 337]\n"
     ]
    }
   ],
   "source": [
    "import collections\n",
    "\n",
    "def read_words(fname):\n",
    "    with open(fname) as f:\n",
    "        return f.read().replace(\"\\n\", \"<eos>\").split()\n",
    "    \n",
    "def build_vocab(filename):\n",
    "    data = read_words(filename)\n",
    "    counter = collections.Counter(data)\n",
    "    count_pairs = sorted(counter.items(), key=lambda x: (-x[1], x[0]))\n",
    "\n",
    "    words, _ = list(zip(*count_pairs))\n",
    "    word_to_id = dict(zip(words, range(len(words))))\n",
    "\n",
    "    return word_to_id\n",
    "\n",
    "def file_to_word_ids(filename, word_to_id):\n",
    "    data = read_words(filename)\n",
    "    return [word_to_id[word] for word in data if word in word_to_id]\n",
    "\n",
    "word_to_id = build_vocab('simple-examples/data/ptb.train.txt')\n",
    "seq = file_to_word_ids('simple-examples/data/ptb.train.txt',word_to_id)\n",
    "print(read_words('simple-examples/data/ptb.train.txt')[50:60])\n",
    "print(seq[50:60])"
   ]
  },
  {
   "cell_type": "code",
   "execution_count": null,
   "metadata": {},
   "outputs": [],
   "source": []
  },
  {
   "cell_type": "code",
   "execution_count": null,
   "metadata": {
    "collapsed": true
   },
   "outputs": [],
   "source": []
  }
 ],
 "metadata": {
  "kernelspec": {
   "display_name": "Python 3",
   "language": "python",
   "name": "python3"
  },
  "language_info": {
   "codemirror_mode": {
    "name": "ipython",
    "version": 3
   },
   "file_extension": ".py",
   "mimetype": "text/x-python",
   "name": "python",
   "nbconvert_exporter": "python",
   "pygments_lexer": "ipython3",
   "version": "3.5.3"
  }
 },
 "nbformat": 4,
 "nbformat_minor": 2
}
