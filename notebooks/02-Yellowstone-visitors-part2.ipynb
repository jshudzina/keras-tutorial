{
 "cells": [
  {
   "cell_type": "markdown",
   "metadata": {},
   "source": [
    "# LSTM Time Series Example\n",
    "\n",
    "> Note: This tutorial is based on [Time Series Forecasting with the Long Short-Term Memory Network in Python](http://machinelearningmastery.com/time-series-forecasting-long-short-term-memory-network-python/) by Jason Brownlee.\n",
    "\n",
    "\n",
    "## Part 2 - Train LSTM "
   ]
  },
  {
   "cell_type": "code",
   "execution_count": 1,
   "metadata": {
    "collapsed": false
   },
   "outputs": [
    {
     "name": "stderr",
     "output_type": "stream",
     "text": [
      "Using TensorFlow backend.\n"
     ]
    }
   ],
   "source": [
    "from pandas import DataFrame\n",
    "from pandas import Series\n",
    "from pandas import concat\n",
    "from pandas import read_csv\n",
    "from pandas import datetime\n",
    "from sklearn.metrics import mean_squared_error\n",
    "from sklearn.preprocessing import MinMaxScaler\n",
    "from keras.models import Sequential\n",
    "from keras.layers import Dense\n",
    "from keras.layers import Dropout\n",
    "from keras.layers import LSTM\n",
    "from math import sqrt\n",
    "from matplotlib import pyplot\n",
    "import numpy"
   ]
  },
  {
   "cell_type": "markdown",
   "metadata": {},
   "source": [
    "# Load Data\n",
    "\n",
    "Unlike part 1, this example includes additional training features.  These include the US unemployment rate and weather data for a yellowstone weather station."
   ]
  },
  {
   "cell_type": "code",
   "execution_count": 2,
   "metadata": {
    "collapsed": false
   },
   "outputs": [
    {
     "data": {
      "text/html": [
       "<div>\n",
       "<table border=\"1\" class=\"dataframe\">\n",
       "  <thead>\n",
       "    <tr style=\"text-align: right;\">\n",
       "      <th></th>\n",
       "      <th>visitors</th>\n",
       "      <th>unemployment</th>\n",
       "      <th>TMAX</th>\n",
       "      <th>TMIN</th>\n",
       "      <th>TAVG</th>\n",
       "      <th>PRCP</th>\n",
       "    </tr>\n",
       "    <tr>\n",
       "      <th>month</th>\n",
       "      <th></th>\n",
       "      <th></th>\n",
       "      <th></th>\n",
       "      <th></th>\n",
       "      <th></th>\n",
       "      <th></th>\n",
       "    </tr>\n",
       "  </thead>\n",
       "  <tbody>\n",
       "    <tr>\n",
       "      <th>1990-01-01</th>\n",
       "      <td>25884</td>\n",
       "      <td>5.4</td>\n",
       "      <td>44</td>\n",
       "      <td>-5</td>\n",
       "      <td>26.9</td>\n",
       "      <td>8.8</td>\n",
       "    </tr>\n",
       "    <tr>\n",
       "      <th>1990-02-01</th>\n",
       "      <td>33285</td>\n",
       "      <td>5.3</td>\n",
       "      <td>50</td>\n",
       "      <td>-14</td>\n",
       "      <td>23.3</td>\n",
       "      <td>6.3</td>\n",
       "    </tr>\n",
       "    <tr>\n",
       "      <th>1990-03-01</th>\n",
       "      <td>19372</td>\n",
       "      <td>5.2</td>\n",
       "      <td>56</td>\n",
       "      <td>2</td>\n",
       "      <td>32.6</td>\n",
       "      <td>2.9</td>\n",
       "    </tr>\n",
       "    <tr>\n",
       "      <th>1990-04-01</th>\n",
       "      <td>29242</td>\n",
       "      <td>5.4</td>\n",
       "      <td>68</td>\n",
       "      <td>11</td>\n",
       "      <td>40.2</td>\n",
       "      <td>5.4</td>\n",
       "    </tr>\n",
       "    <tr>\n",
       "      <th>1990-05-01</th>\n",
       "      <td>203712</td>\n",
       "      <td>5.4</td>\n",
       "      <td>67</td>\n",
       "      <td>12</td>\n",
       "      <td>41.8</td>\n",
       "      <td>4.0</td>\n",
       "    </tr>\n",
       "  </tbody>\n",
       "</table>\n",
       "</div>"
      ],
      "text/plain": [
       "            visitors  unemployment  TMAX  TMIN  TAVG  PRCP\n",
       "month                                                     \n",
       "1990-01-01     25884           5.4    44    -5  26.9   8.8\n",
       "1990-02-01     33285           5.3    50   -14  23.3   6.3\n",
       "1990-03-01     19372           5.2    56     2  32.6   2.9\n",
       "1990-04-01     29242           5.4    68    11  40.2   5.4\n",
       "1990-05-01    203712           5.4    67    12  41.8   4.0"
      ]
     },
     "execution_count": 2,
     "metadata": {},
     "output_type": "execute_result"
    }
   ],
   "source": [
    "def parser(x):\n",
    "    return datetime.strptime(x, '%Y-%m-%d')\n",
    "\n",
    "dataset = read_csv('../data/yellowstone-visitors-ur-weather.csv', header=0, parse_dates=[0], index_col=0, squeeze=True, date_parser=parser)\n",
    "dataset.head()"
   ]
  },
  {
   "cell_type": "markdown",
   "metadata": {},
   "source": [
    "## Convert to Stationary Data\n",
    "\n",
    "Like the visitors, the weather contains seasonal trends. We'll convert all the values to the change over the last month."
   ]
  },
  {
   "cell_type": "code",
   "execution_count": 3,
   "metadata": {
    "collapsed": false
   },
   "outputs": [
    {
     "data": {
      "text/html": [
       "<div>\n",
       "<table border=\"1\" class=\"dataframe\">\n",
       "  <thead>\n",
       "    <tr style=\"text-align: right;\">\n",
       "      <th></th>\n",
       "      <th>visitors</th>\n",
       "      <th>unemployment</th>\n",
       "      <th>TMAX</th>\n",
       "      <th>TMIN</th>\n",
       "      <th>TAVG</th>\n",
       "      <th>PRCP</th>\n",
       "    </tr>\n",
       "  </thead>\n",
       "  <tbody>\n",
       "    <tr>\n",
       "      <th>0</th>\n",
       "      <td>7401.0</td>\n",
       "      <td>-0.1</td>\n",
       "      <td>6.0</td>\n",
       "      <td>-9.0</td>\n",
       "      <td>-3.6</td>\n",
       "      <td>-2.5</td>\n",
       "    </tr>\n",
       "    <tr>\n",
       "      <th>1</th>\n",
       "      <td>-13913.0</td>\n",
       "      <td>-0.1</td>\n",
       "      <td>6.0</td>\n",
       "      <td>16.0</td>\n",
       "      <td>9.3</td>\n",
       "      <td>-3.4</td>\n",
       "    </tr>\n",
       "    <tr>\n",
       "      <th>2</th>\n",
       "      <td>9870.0</td>\n",
       "      <td>0.2</td>\n",
       "      <td>12.0</td>\n",
       "      <td>9.0</td>\n",
       "      <td>7.6</td>\n",
       "      <td>2.5</td>\n",
       "    </tr>\n",
       "    <tr>\n",
       "      <th>3</th>\n",
       "      <td>174470.0</td>\n",
       "      <td>0.0</td>\n",
       "      <td>-1.0</td>\n",
       "      <td>1.0</td>\n",
       "      <td>1.6</td>\n",
       "      <td>-1.4</td>\n",
       "    </tr>\n",
       "    <tr>\n",
       "      <th>4</th>\n",
       "      <td>322874.0</td>\n",
       "      <td>-0.2</td>\n",
       "      <td>20.0</td>\n",
       "      <td>19.0</td>\n",
       "      <td>12.9</td>\n",
       "      <td>-2.3</td>\n",
       "    </tr>\n",
       "  </tbody>\n",
       "</table>\n",
       "</div>"
      ],
      "text/plain": [
       "   visitors  unemployment  TMAX  TMIN  TAVG  PRCP\n",
       "0    7401.0          -0.1   6.0  -9.0  -3.6  -2.5\n",
       "1  -13913.0          -0.1   6.0  16.0   9.3  -3.4\n",
       "2    9870.0           0.2  12.0   9.0   7.6   2.5\n",
       "3  174470.0           0.0  -1.0   1.0   1.6  -1.4\n",
       "4  322874.0          -0.2  20.0  19.0  12.9  -2.3"
      ]
     },
     "execution_count": 3,
     "metadata": {},
     "output_type": "execute_result"
    }
   ],
   "source": [
    "def difference(dataset, interval=1):\n",
    "    diff = list()\n",
    "    for i in range(interval, len(dataset)):\n",
    "        value = dataset[i] - dataset[i - interval]\n",
    "        diff.append(value)\n",
    "    return diff\n",
    "\n",
    "diff_values = difference(dataset.values)\n",
    "diff_df = DataFrame(diff_values, columns=dataset.columns.values)\n",
    "diff_df.head()"
   ]
  },
  {
   "cell_type": "markdown",
   "metadata": {},
   "source": [
    "## Label Data\n",
    "\n",
    "The label is the proceeding month's change in visitors.  This makes the training set a superived training set."
   ]
  },
  {
   "cell_type": "code",
   "execution_count": 4,
   "metadata": {
    "collapsed": false
   },
   "outputs": [
    {
     "data": {
      "text/html": [
       "<div>\n",
       "<table border=\"1\" class=\"dataframe\">\n",
       "  <thead>\n",
       "    <tr style=\"text-align: right;\">\n",
       "      <th></th>\n",
       "      <th>visitors</th>\n",
       "      <th>unemployment</th>\n",
       "      <th>TMAX</th>\n",
       "      <th>TMIN</th>\n",
       "      <th>TAVG</th>\n",
       "      <th>PRCP</th>\n",
       "      <th>label</th>\n",
       "    </tr>\n",
       "  </thead>\n",
       "  <tbody>\n",
       "    <tr>\n",
       "      <th>0</th>\n",
       "      <td>0.0</td>\n",
       "      <td>0.0</td>\n",
       "      <td>0.0</td>\n",
       "      <td>0.0</td>\n",
       "      <td>0.0</td>\n",
       "      <td>0.0</td>\n",
       "      <td>7401.0</td>\n",
       "    </tr>\n",
       "    <tr>\n",
       "      <th>1</th>\n",
       "      <td>7401.0</td>\n",
       "      <td>-0.1</td>\n",
       "      <td>6.0</td>\n",
       "      <td>-9.0</td>\n",
       "      <td>-3.6</td>\n",
       "      <td>-2.5</td>\n",
       "      <td>-13913.0</td>\n",
       "    </tr>\n",
       "    <tr>\n",
       "      <th>2</th>\n",
       "      <td>-13913.0</td>\n",
       "      <td>-0.1</td>\n",
       "      <td>6.0</td>\n",
       "      <td>16.0</td>\n",
       "      <td>9.3</td>\n",
       "      <td>-3.4</td>\n",
       "      <td>9870.0</td>\n",
       "    </tr>\n",
       "    <tr>\n",
       "      <th>3</th>\n",
       "      <td>9870.0</td>\n",
       "      <td>0.2</td>\n",
       "      <td>12.0</td>\n",
       "      <td>9.0</td>\n",
       "      <td>7.6</td>\n",
       "      <td>2.5</td>\n",
       "      <td>174470.0</td>\n",
       "    </tr>\n",
       "    <tr>\n",
       "      <th>4</th>\n",
       "      <td>174470.0</td>\n",
       "      <td>0.0</td>\n",
       "      <td>-1.0</td>\n",
       "      <td>1.0</td>\n",
       "      <td>1.6</td>\n",
       "      <td>-1.4</td>\n",
       "      <td>322874.0</td>\n",
       "    </tr>\n",
       "  </tbody>\n",
       "</table>\n",
       "</div>"
      ],
      "text/plain": [
       "   visitors  unemployment  TMAX  TMIN  TAVG  PRCP     label\n",
       "0       0.0           0.0   0.0   0.0   0.0   0.0    7401.0\n",
       "1    7401.0          -0.1   6.0  -9.0  -3.6  -2.5  -13913.0\n",
       "2  -13913.0          -0.1   6.0  16.0   9.3  -3.4    9870.0\n",
       "3    9870.0           0.2  12.0   9.0   7.6   2.5  174470.0\n",
       "4  174470.0           0.0  -1.0   1.0   1.6  -1.4  322874.0"
      ]
     },
     "execution_count": 4,
     "metadata": {},
     "output_type": "execute_result"
    }
   ],
   "source": [
    "labels = diff_df['visitors'].rename(index='label')\n",
    "shifted = diff_df.shift(1)\n",
    "supervised = concat([shifted, labels], axis=1)\n",
    "supervised.fillna(0, inplace=True)\n",
    "supervised.head()"
   ]
  },
  {
   "cell_type": "markdown",
   "metadata": {},
   "source": [
    "## Split Training & Test Datasets\n",
    "\n",
    "This step also scales the values between -1 and 1."
   ]
  },
  {
   "cell_type": "code",
   "execution_count": 5,
   "metadata": {
    "collapsed": false
   },
   "outputs": [
    {
     "name": "stdout",
     "output_type": "stream",
     "text": [
      "training set shape: (311, 7)\n",
      "[  6.90947787e-02  -8.88178420e-16   1.60000000e-01   1.09703800e-03\n",
      "   5.91133005e-02  -1.14754098e-01   8.45981350e-02]\n"
     ]
    }
   ],
   "source": [
    "supervised_values = supervised.values\n",
    "train, test = supervised_values[0:-12], supervised_values[-12:]\n",
    "\n",
    "scaler = MinMaxScaler(feature_range=(-1, 1))\n",
    "scaler = scaler.fit(train)\n",
    "\n",
    "train = train.reshape(train.shape[0], train.shape[1])\n",
    "train_scaled = scaler.transform(train)\n",
    "\n",
    "test = test.reshape(test.shape[0], test.shape[1])\n",
    "test_scaled = scaler.transform(test)\n",
    "\n",
    "print('training set shape: {}'.format(train_scaled.shape))\n",
    "print(train_scaled[0])"
   ]
  },
  {
   "cell_type": "markdown",
   "metadata": {},
   "source": [
    "## Define the Model\n",
    "\n",
    "This network defines a statefule LSTM layer.  "
   ]
  },
  {
   "cell_type": "code",
   "execution_count": 6,
   "metadata": {
    "collapsed": false
   },
   "outputs": [],
   "source": [
    "batch_size = 1 # required for stateful LSTM\n",
    "neurons = 20 \n",
    "features = 6\n",
    "labels = 1\n",
    "\n",
    "model = Sequential()\n",
    "model.add(LSTM(neurons, batch_input_shape=(batch_size, 1, features), stateful=True))\n",
    "model.add(Dropout(0.5))\n",
    "model.add(Dense(features))\n",
    "model.add(Dropout(0.5))\n",
    "model.add(Dense(1))\n",
    "model.compile(loss='mean_squared_error', optimizer='adam')"
   ]
  },
  {
   "cell_type": "markdown",
   "metadata": {},
   "source": [
    "## Train the Model\n",
    "\n",
    "> Note: Stateful models update gradients for previous batches.  Get a cup of coffee... "
   ]
  },
  {
   "cell_type": "code",
   "execution_count": 7,
   "metadata": {
    "collapsed": false
   },
   "outputs": [
    {
     "name": "stdout",
     "output_type": "stream",
     "text": [
      "0\n",
      "50\n",
      "100\n",
      "150\n",
      "200\n",
      "250\n"
     ]
    }
   ],
   "source": [
    "nb_epoch = 300\n",
    "\n",
    "X, y = train_scaled[:, 0:-1], train_scaled[:, -1]\n",
    "X = X.reshape(X.shape[0], 1, X.shape[1])\n",
    "for i in range(nb_epoch):\n",
    "    if(i % 50 == 0):\n",
    "        print(i)\n",
    "    model.fit(X, y, epochs=1, batch_size=batch_size, verbose=0, shuffle=False)\n",
    "    model.reset_states()"
   ]
  },
  {
   "cell_type": "markdown",
   "metadata": {},
   "source": [
    "## Create Predictions\n",
    "\n",
    "We'll need to invert the scaling plus convert to absoult values."
   ]
  },
  {
   "cell_type": "code",
   "execution_count": 8,
   "metadata": {
    "collapsed": true
   },
   "outputs": [],
   "source": [
    "# inverse scaling for a forecasted value\n",
    "def invert_scale(scaler, X, value):\n",
    "    new_row = [x for x in X] + [value]\n",
    "    array = numpy.array(new_row)\n",
    "    array = array.reshape(1, len(array))\n",
    "    inverted = scaler.inverse_transform(array)\n",
    "    return inverted[0, -1]"
   ]
  },
  {
   "cell_type": "code",
   "execution_count": 9,
   "metadata": {
    "collapsed": false
   },
   "outputs": [
    {
     "name": "stdout",
     "output_type": "stream",
     "text": [
      "Month=1, Predicted=62444.237784, Expected=38050.000000\n",
      "Month=2, Predicted=10221.604003, Expected=19946.000000\n",
      "Month=3, Predicted=61145.142451, Expected=19875.000000\n",
      "Month=4, Predicted=75438.738541, Expected=188798.000000\n",
      "Month=5, Predicted=440095.094421, Expected=499107.000000\n",
      "Month=6, Predicted=1088360.360781, Expected=796656.000000\n",
      "Month=7, Predicted=944412.171881, Expected=721103.000000\n",
      "Month=8, Predicted=971425.729486, Expected=432948.000000\n",
      "Month=9, Predicted=542863.295674, Expected=144944.000000\n",
      "Month=10, Predicted=139473.242099, Expected=6261.000000\n",
      "Month=11, Predicted=-89827.228771, Expected=23998.000000\n",
      "Month=12, Predicted=28914.785072, Expected=33552.000000\n"
     ]
    }
   ],
   "source": [
    "visitor_history = dataset['visitors'].values\n",
    "\n",
    "predictions = list()\n",
    "for i in range(len(test_scaled)):\n",
    "    X, y = test_scaled[i, 0:-1], test_scaled[i, -1]\n",
    "    X = X.reshape(1, 1, len(X))\n",
    "    scaled_pred = model.predict(X, batch_size=batch_size)\n",
    "    \n",
    "    visitor_delta = invert_scale(scaler, X[0,0], scaled_pred[0,0])\n",
    "    prev_mon_vistitor = visitor_history[-len(test_scaled)+1-i]\n",
    "    \n",
    "    pred = prev_mon_vistitor + visitor_delta\n",
    "    expected = visitor_history[len(test_scaled) + i + 1]\n",
    "    print('Month=%d, Predicted=%f, Expected=%f' % (i+1, pred, expected))\n",
    "    \n",
    "    predictions.append(pred)"
   ]
  },
  {
   "cell_type": "markdown",
   "metadata": {
    "collapsed": true
   },
   "source": [
    "Let's plot the results..."
   ]
  },
  {
   "cell_type": "code",
   "execution_count": 10,
   "metadata": {
    "collapsed": false
   },
   "outputs": [
    {
     "data": {
      "image/png": "[encoded data removed]",
      "text/plain": [
       "<matplotlib.figure.Figure at 0x11b683a58>"
      ]
     },
     "metadata": {},
     "output_type": "display_data"
    }
   ],
   "source": [
    "pyplot.plot(visitor_history[-12:])\n",
    "pyplot.plot(predictions)\n",
    "pyplot.show()"
   ]
  },
  {
   "cell_type": "markdown",
   "metadata": {},
   "source": [
    "Did the LSTM work any better than the simple monthly average?"
   ]
  },
  {
   "cell_type": "code",
   "execution_count": 11,
   "metadata": {
    "collapsed": false
   },
   "outputs": [
    {
     "name": "stdout",
     "output_type": "stream",
     "text": [
      "Test RMSE: 105899.637\n"
     ]
    }
   ],
   "source": [
    "rmse = sqrt(mean_squared_error(visitor_history[-12:], predictions))\n",
    "print('Test RMSE: %.3f' % rmse)"
   ]
  },
  {
   "cell_type": "code",
   "execution_count": null,
   "metadata": {
    "collapsed": true
   },
   "outputs": [],
   "source": []
  },
  {
   "cell_type": "code",
   "execution_count": null,
   "metadata": {
    "collapsed": true
   },
   "outputs": [],
   "source": []
  },
  {
   "cell_type": "code",
   "execution_count": null,
   "metadata": {
    "collapsed": true
   },
   "outputs": [],
   "source": []
  }
 ],
 "metadata": {
  "kernelspec": {
   "display_name": "Python 3",
   "language": "python",
   "name": "python3"
  },
  "language_info": {
   "codemirror_mode": {
    "name": "ipython",
    "version": 3
   },
   "file_extension": ".py",
   "mimetype": "text/x-python",
   "name": "python",
   "nbconvert_exporter": "python",
   "pygments_lexer": "ipython3",
   "version": "3.5.2"
  }
 },
 "nbformat": 4,
 "nbformat_minor": 2
}
