{
 "cells": [
  {
   "cell_type": "markdown",
   "metadata": {},
   "source": [
    "# Introduction\n",
    "\n",
    "Keras is a deeplearning library that abstracts a tensor library like Theano or Tenorflow.  This tutorial leverages  Tensorflow as Keras' backend.  We'll run over the following examples...\n",
    "  \n",
    "![Keras Architecture](images/KerasDiagram.jpg)"
   ]
  },
  {
   "cell_type": "markdown",
   "metadata": {},
   "source": [
    "## Keras Introduction\n",
    "\n",
    "[Keras vs Poisonous Mushrooms](01-KerasPoisonousMushrooms.ipynb)\n",
    "\n",
    "![Lepiota Lilacea](images/Lepiota_lilacea.jpg)\n",
    "    \n",
    "This tutorial demonstrates a simple classification task implemented with Keras.  Hopefully, we won't eat the wrong srooms.\n",
    "\n",
    "Things we'll cover:\n",
    "\n",
    "* Extract features for categorical data\n",
    "* Define a simple neural network\n",
    "* Define Callbacks (Tensorflow logs)\n",
    "* Train the network \n",
    "* Take a peak at the unlying network in Tensorboard\n",
    "* Evaluate the network against a test dataset"
   ]
  },
  {
   "cell_type": "markdown",
   "metadata": {},
   "source": [
    "## Keras Tensorflow Comparison \n",
    "\n",
    "[Tensorflow vs Poisonous Mushrooms](01-TensorPoisonousMushrooms.ipynb)\n",
    "\n",
    "![The deadly Lepiota Castanea](images/640px-Lepiota_castanea_70848.jpg)\n",
    "\n",
    "This tutorial implements the same poisonous mushroom classification task in Tensorflow.  The above image is of the poisonous Lepiota Castanea mushroom.  While Tensorflow invovles a bit more work, it isn't deadly!\n",
    "\n",
    "In this tutorial, we will cover:\n",
    "\n",
    "* Deep dive into the dense layers and the model definition\n",
    "* Decompose the Keras' compile method to Tensorflow operations\n",
    "* Better understand Keras' fit method (with many lines of Tensorflow code)\n"
   ]
  },
  {
   "cell_type": "markdown",
   "metadata": {},
   "source": [
    "## Yellowstone Visitors (Monthly Average) \n",
    "\n",
    "[Yellowstone Vistiors Part 1](02-Yellowstone-visitors-part1.ipynb)\n",
    "\n",
    "![Yellowstone Fires](images/640px-Wildfire_in_Yellowstone.jpg)\n",
    "\n",
    "Before we dive into Reccurent Nerual Networks, we'll look at a Yellowstone recreational visitor timeseries."
   ]
  },
  {
   "cell_type": "markdown",
   "metadata": {},
   "source": [
    "## Yellowstone Visitors (LSTM)\n",
    "\n",
    "[Yellowstone Vistiors Part 2](02-Yellowstone-visitors-part2.ipynb)\n",
    "\n",
    "![Yellowstone National Park](images/640px-Beautiful_Meadow_in_Yellowstone_National_Park.jpeg)\n",
    "\n",
    "This tutorial attempts to predict Yellowstone visitors based on timeseries data.  We'll define a Long Short Term Memory network in Keras.\n",
    "\n",
    "This tutorial will:\n",
    "\n",
    "* Prepare Time Series Data for the LSTM network\n",
    "    * Convert non-stationary to stationary data \n",
    "    * Scale data\n",
    "    * Create labels from time series data\n",
    "* Define a stateful LSTM network\n",
    "* Train the LSTM model \n",
    "* Compare the LSTM predictions against monthly averages"
   ]
  },
  {
   "cell_type": "code",
   "execution_count": null,
   "metadata": {
    "collapsed": true
   },
   "outputs": [],
   "source": []
  }
 ],
 "metadata": {
  "kernelspec": {
   "display_name": "Python 3",
   "language": "python",
   "name": "python3"
  },
  "language_info": {
   "codemirror_mode": {
    "name": "ipython",
    "version": 3
   },
   "file_extension": ".py",
   "mimetype": "text/x-python",
   "name": "python",
   "nbconvert_exporter": "python",
   "pygments_lexer": "ipython3",
   "version": "3.5.3"
  }
 },
 "nbformat": 4,
 "nbformat_minor": 2
}
